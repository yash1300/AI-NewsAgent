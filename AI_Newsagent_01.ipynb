{
  "nbformat": 4,
  "nbformat_minor": 0,
  "metadata": {
    "colab": {
      "provenance": [],
      "authorship_tag": "ABX9TyMJOAagEiCFcz5tRgjQgp/u",
      "include_colab_link": true
    },
    "kernelspec": {
      "name": "python3",
      "display_name": "Python 3"
    },
    "language_info": {
      "name": "python"
    }
  },
  "cells": [
    {
      "cell_type": "markdown",
      "metadata": {
        "id": "view-in-github",
        "colab_type": "text"
      },
      "source": [
        "<a href=\"https://colab.research.google.com/github/yash1300/AI-NewsAgent/blob/main/AI_Newsagent_01.ipynb\" target=\"_parent\"><img src=\"https://colab.research.google.com/assets/colab-badge.svg\" alt=\"Open In Colab\"/></a>"
      ]
    },
    {
      "cell_type": "code",
      "execution_count": 1,
      "metadata": {
        "colab": {
          "base_uri": "https://localhost:8080/"
        },
        "id": "5uLiFtH1xM0F",
        "outputId": "28c44f40-819b-4067-c1f1-148714dcfcf0"
      },
      "outputs": [
        {
          "output_type": "stream",
          "name": "stdout",
          "text": [
            "Requirement already satisfied: requests in /usr/local/lib/python3.10/dist-packages (2.32.3)\n",
            "Requirement already satisfied: transformers in /usr/local/lib/python3.10/dist-packages (4.46.2)\n",
            "Requirement already satisfied: beautifulsoup4 in /usr/local/lib/python3.10/dist-packages (4.12.3)\n",
            "Requirement already satisfied: charset-normalizer<4,>=2 in /usr/local/lib/python3.10/dist-packages (from requests) (3.4.0)\n",
            "Requirement already satisfied: idna<4,>=2.5 in /usr/local/lib/python3.10/dist-packages (from requests) (3.10)\n",
            "Requirement already satisfied: urllib3<3,>=1.21.1 in /usr/local/lib/python3.10/dist-packages (from requests) (2.2.3)\n",
            "Requirement already satisfied: certifi>=2017.4.17 in /usr/local/lib/python3.10/dist-packages (from requests) (2024.8.30)\n",
            "Requirement already satisfied: filelock in /usr/local/lib/python3.10/dist-packages (from transformers) (3.16.1)\n",
            "Requirement already satisfied: huggingface-hub<1.0,>=0.23.2 in /usr/local/lib/python3.10/dist-packages (from transformers) (0.26.2)\n",
            "Requirement already satisfied: numpy>=1.17 in /usr/local/lib/python3.10/dist-packages (from transformers) (1.26.4)\n",
            "Requirement already satisfied: packaging>=20.0 in /usr/local/lib/python3.10/dist-packages (from transformers) (24.2)\n",
            "Requirement already satisfied: pyyaml>=5.1 in /usr/local/lib/python3.10/dist-packages (from transformers) (6.0.2)\n",
            "Requirement already satisfied: regex!=2019.12.17 in /usr/local/lib/python3.10/dist-packages (from transformers) (2024.9.11)\n",
            "Requirement already satisfied: safetensors>=0.4.1 in /usr/local/lib/python3.10/dist-packages (from transformers) (0.4.5)\n",
            "Requirement already satisfied: tokenizers<0.21,>=0.20 in /usr/local/lib/python3.10/dist-packages (from transformers) (0.20.3)\n",
            "Requirement already satisfied: tqdm>=4.27 in /usr/local/lib/python3.10/dist-packages (from transformers) (4.66.6)\n",
            "Requirement already satisfied: soupsieve>1.2 in /usr/local/lib/python3.10/dist-packages (from beautifulsoup4) (2.6)\n",
            "Requirement already satisfied: fsspec>=2023.5.0 in /usr/local/lib/python3.10/dist-packages (from huggingface-hub<1.0,>=0.23.2->transformers) (2024.10.0)\n",
            "Requirement already satisfied: typing-extensions>=3.7.4.3 in /usr/local/lib/python3.10/dist-packages (from huggingface-hub<1.0,>=0.23.2->transformers) (4.12.2)\n"
          ]
        }
      ],
      "source": [
        "!pip install requests transformers beautifulsoup4\n"
      ]
    },
    {
      "cell_type": "code",
      "source": [
        "import requests\n",
        "from transformers import pipeline\n",
        "from bs4 import BeautifulSoup"
      ],
      "metadata": {
        "id": "TWo-YX9uxVDo"
      },
      "execution_count": 2,
      "outputs": []
    },
    {
      "cell_type": "markdown",
      "source": [
        "in the below code it includes few paid news api therefore ignore it and scroll"
      ],
      "metadata": {
        "id": "7drU-sYu0XSw"
      }
    },
    {
      "cell_type": "code",
      "source": [
        "# import requests\n",
        "# from transformers import pipeline\n",
        "\n",
        "# # Initialize the HuggingFace summarizer\n",
        "# summarizer = pipeline(\"summarization\")\n",
        "\n",
        "# # NewsAPI configuration  API from news api platform\n",
        "# NEWSAPI_KEY = 'b0a48476d9e7421e9e56bd7620a8ccb8'\n",
        "# NEWSAPI_URL = 'https://newsapi.org/v2/everything'\n",
        "\n",
        "# # Bing News API configuration\n",
        "# BING_KEY = 'your_bing_api_key'\n",
        "# BING_URL = 'https://api.bing.microsoft.com/v7.0/news/search'\n",
        "\n",
        "# # SerpApi Google News configuration\n",
        "# SERPAPI_KEY = 'your_serpapi_key'\n",
        "# SERPAPI_URL = 'https://serpapi.com/search'\n",
        "\n",
        "# # ContextualWeb News API configuration\n",
        "# CONTEXTUALWEB_KEY = 'your_contextualweb_key'\n",
        "# CONTEXTUALWEB_URL = 'https://contextualwebsearch-websearch-v1.p.rapidapi.com/api/Search/NewsSearchAPI'\n",
        "\n",
        "# # Define a function to summarize articles\n",
        "# def summarize_text(text, max_len=50):\n",
        "#     try:\n",
        "#         return summarizer(text, max_length=max_len, min_length=25, do_sample=False)[0]['summary_text']\n",
        "#     except Exception as e:\n",
        "#         print(\"Summarization Error:\", e)\n",
        "#         return text\n",
        "\n",
        "# # Function to fetch and summarize news from NewsAPI\n",
        "# def fetch_newsapi_news(query):\n",
        "#     params = {'q': query, 'pageSize': 5, 'apiKey': NEWSAPI_KEY}\n",
        "#     response = requests.get(NEWSAPI_URL, params=params)\n",
        "#     articles = response.json().get('articles', [])\n",
        "#     return [(article['title'], article['description'], article['url']) for article in articles]\n",
        "\n",
        "# # Function to fetch and summarize news from Bing News API\n",
        "# def fetch_bing_news(query):\n",
        "#     headers = {\"Ocp-Apim-Subscription-Key\": BING_KEY}\n",
        "#     params = {'q': query, 'count': 5}\n",
        "#     response = requests.get(BING_URL, headers=headers, params=params)\n",
        "#     articles = response.json().get('value', [])\n",
        "#     return [(article['name'], article['description'], article['url']) for article in articles]\n",
        "\n",
        "# # Function to fetch and summarize news from Google News via SerpApi\n",
        "# def fetch_google_news(query):\n",
        "#     params = {\n",
        "#         'engine': 'google_news',\n",
        "#         'q': query,\n",
        "#         'api_key': SERPAPI_KEY\n",
        "#     }\n",
        "#     response = requests.get(SERPAPI_URL, params=params)\n",
        "#     articles = response.json().get('news_results', [])\n",
        "#     return [(article['title'], article['snippet'], article['link']) for article in articles]\n",
        "\n",
        "# # Function to fetch and summarize news from ContextualWeb News API\n",
        "# def fetch_contextualweb_news(query):\n",
        "#     headers = {\n",
        "#         \"X-RapidAPI-Key\": CONTEXTUALWEB_KEY,\n",
        "#         \"X-RapidAPI-Host\": \"contextualwebsearch-websearch-v1.p.rapidapi.com\"\n",
        "#     }\n",
        "#     params = {'q': query, 'pageSize': 5, 'autoCorrect': 'true'}\n",
        "#     response = requests.get(CONTEXTUALWEB_URL, headers=headers, params=params)\n",
        "#     articles = response.json().get('value', [])\n",
        "#     return [(article['title'], article['description'], article['url']) for article in articles]\n",
        "\n",
        "# # Main function to fetch and aggregate news from all sources\n",
        "# def aggregate_news(query=\"technology\"):\n",
        "#     all_news = []\n",
        "\n",
        "#     # Fetch and summarize news from each source\n",
        "#     newsapi_news = fetch_newsapi_news(query)\n",
        "#     bing_news = fetch_bing_news(query)\n",
        "#     google_news = fetch_google_news(query)\n",
        "#     contextualweb_news = fetch_contextualweb_news(query)\n",
        "\n",
        "#     # Combine all news sources\n",
        "#     all_news.extend(newsapi_news)\n",
        "#     all_news.extend(bing_news)\n",
        "#     all_news.extend(google_news)\n",
        "#     all_news.extend(contextualweb_news)\n",
        "\n",
        "#     # Summarize and print out each article in a structured format\n",
        "#     summarized_news = []\n",
        "#     for title, description, url in all_news:\n",
        "#         summary = summarize_text(description) if description else title\n",
        "#         summarized_news.append((title, summary, url))\n",
        "\n",
        "#     # Display summarized news\n",
        "#     for i, (title, summary, url) in enumerate(summarized_news, start=1):\n",
        "#         print(f\"{i}. {title}\\nSummary: {summary}\\nLink: {url}\\n\")\n",
        "\n",
        "# # Run the function to aggregate and summarize tech and startup news\n",
        "# aggregate_news(\"technology startup\")\n"
      ],
      "metadata": {
        "id": "eikxjxxBxePS"
      },
      "execution_count": null,
      "outputs": []
    },
    {
      "cell_type": "code",
      "source": [
        "from google.colab import userdata\n",
        "userdata.get('NewsAPI')"
      ],
      "metadata": {
        "colab": {
          "base_uri": "https://localhost:8080/",
          "height": 36
        },
        "id": "oU-_lDCm3OsU",
        "outputId": "c0f7276e-1008-4533-c18b-86a5dc79debe"
      },
      "execution_count": 7,
      "outputs": [
        {
          "output_type": "execute_result",
          "data": {
            "text/plain": [
              "'b0a48476d9e7421e9e56bd7620a8ccb8'"
            ],
            "application/vnd.google.colaboratory.intrinsic+json": {
              "type": "string"
            }
          },
          "metadata": {},
          "execution_count": 7
        }
      ]
    },
    {
      "cell_type": "code",
      "source": [
        "import requests\n",
        "from transformers import pipeline\n",
        "from datetime import datetime, timedelta\n",
        "\n",
        "# Initialize Hugging Face summarizer\n",
        "summarizer = pipeline(\"summarization\")\n",
        "\n",
        "# NewsAPI configuration\n",
        "NEWSAPI_KEY = 'b0a48476d9e7421e9e56bd7620a8ccb8'  # Replace with your NewsAPI key\n",
        "NEWSAPI_URL = 'https://newsapi.org/v2/everything'\n",
        "\n",
        "# Function to summarize text\n",
        "def summarize_text(text, max_len=50):\n",
        "    try:\n",
        "        # Summarize the text, adjusting length as needed\n",
        "        return summarizer(text, max_length=max_len, min_length=25, do_sample=False)[0]['summary_text']\n",
        "    except Exception as e:\n",
        "        print(\"Summarization Error:\", e)\n",
        "        return text  # Return original text if summarization fails\n",
        "\n",
        "# Function to fetch and summarize news from NewsAPI within the last 48 hours\n",
        "def fetch_recent_news(query, num_articles=10):\n",
        "    # Calculate the date range for the past 48 hours\n",
        "    from_date = (datetime.now() - timedelta(days=2)).strftime('%Y-%m-%d')\n",
        "    to_date = datetime.now().strftime('%Y-%m-%d')\n",
        "\n",
        "    # Parameters to get top recent news\n",
        "    params = {\n",
        "        'q': query,\n",
        "        'pageSize': num_articles,\n",
        "        'from': from_date,\n",
        "        'to': to_date,\n",
        "        'sortBy': 'relevancy',\n",
        "        'apiKey': NEWSAPI_KEY\n",
        "    }\n",
        "    response = requests.get(NEWSAPI_URL, params=params)\n",
        "    articles = response.json().get('articles', [])\n",
        "    return [(article['title'], article['description'], article['url']) for article in articles]\n",
        "\n",
        "# Main function to fetch, summarize, and display top 10 recent news\n",
        "def display_top_recent_news(query=\"Artificial intelligence\"):\n",
        "    # Fetch recent articles from NewsAPI\n",
        "    articles = fetch_recent_news(query)\n",
        "\n",
        "    # Summarize each article's description and display the results\n",
        "    for i, (title, description, url) in enumerate(articles, start=1):\n",
        "        # Generate summary if description exists; otherwise, use title\n",
        "        summary = summarize_text(description) if description else title\n",
        "        print(f\"{i}. {title}\\nSummary: {summary}\\nLink: {url}\\n\")\n",
        "\n",
        "# Run the function to get and display top 10 tech and startup news summaries from the last 48 hours\n",
        "display_top_recent_news(\"Artificial intelligence\")\n"
      ],
      "metadata": {
        "colab": {
          "base_uri": "https://localhost:8080/"
        },
        "id": "mRqt9GG50hbU",
        "outputId": "0412ded9-7218-46b0-8d7e-74ad7aeaa546"
      },
      "execution_count": 9,
      "outputs": [
        {
          "output_type": "stream",
          "name": "stderr",
          "text": [
            "No model was supplied, defaulted to sshleifer/distilbart-cnn-12-6 and revision a4f8f3e (https://huggingface.co/sshleifer/distilbart-cnn-12-6).\n",
            "Using a pipeline without specifying a model name and revision in production is not recommended.\n",
            "Your max_length is set to 50, but your input_length is only 19. Since this is a summarization task, where outputs shorter than the input are typically wanted, you might consider decreasing max_length manually, e.g. summarizer('...', max_length=9)\n"
          ]
        },
        {
          "output_type": "stream",
          "name": "stdout",
          "text": [
            "1. AI Chatbot Joins Mushroom Hunters Group, Immediately Encourages Them to Cook Dangerous Mushroom\n",
            "Summary:  We have yet another example of artificial intelligence having no idea what it's talking about . We have a new set of questions to ask: 'What do you think?'\n",
            "Link: https://gizmodo.com/ai-chatbot-joins-mushroom-hunters-group-immediately-encourages-them-to-cook-dangerous-mushroom-2000523863\n",
            "\n"
          ]
        },
        {
          "output_type": "stream",
          "name": "stderr",
          "text": [
            "Your max_length is set to 50, but your input_length is only 27. Since this is a summarization task, where outputs shorter than the input are typically wanted, you might consider decreasing max_length manually, e.g. summarizer('...', max_length=13)\n"
          ]
        },
        {
          "output_type": "stream",
          "name": "stdout",
          "text": [
            "2. Predicting Apple Intelligence revenue opportunities in 2025\n",
            "Summary:  Aside from the iPhone, Services is Apple’s most successful product category . The company's approach to modern artificial intelligence, combined with its acquisition history, hints at how Apple could unlock new revenue .\n",
            "Link: https://9to5mac.com/2024/11/13/apple-intelligence-revenue/\n",
            "\n",
            "3. Fox News AI Newsletter: AI developers discover 'Donald Trump neuron', expert says\n",
            "Summary:  Stay up to date on the latest AI technology advancements and learn about the challenges and opportunities AI presents now and for the future .\n",
            "Link: https://www.foxnews.com/tech/ai-developers-discover-donald-trump-neuron-expert-says\n",
            "\n"
          ]
        },
        {
          "output_type": "stream",
          "name": "stderr",
          "text": [
            "Your max_length is set to 50, but your input_length is only 26. Since this is a summarization task, where outputs shorter than the input are typically wanted, you might consider decreasing max_length manually, e.g. summarizer('...', max_length=13)\n"
          ]
        },
        {
          "output_type": "stream",
          "name": "stdout",
          "text": [
            "4. iOS 18.2: cuándo sale, principales novedades y cómo instalar en tu iPhone\n",
            "Summary:  Apple presented iOS 18 esta primavera, en el WWDC de 2024, a day before the WWDC . Apple no quería introducir los grandes cambios that supone Apple Intelligence de sopetón\n",
            "Link: http://hipertextual.com/2024/11/ios-18-2-novedades-lanzamiento-instalar\n",
            "\n"
          ]
        },
        {
          "output_type": "stream",
          "name": "stderr",
          "text": [
            "Your max_length is set to 50, but your input_length is only 37. Since this is a summarization task, where outputs shorter than the input are typically wanted, you might consider decreasing max_length manually, e.g. summarizer('...', max_length=18)\n"
          ]
        },
        {
          "output_type": "stream",
          "name": "stdout",
          "text": [
            "5. 5 interesting takeaways from Slack's survey of 17,000 desk workers about AI\n",
            "Summary:  Slack survey of over 17,000 desk workers found slowing excitement for AI among employees . Slack's survey found a lack of AI training among employees and a slowing interest in AI .\n",
            "Link: https://www.businessinsider.com/slack-survey-desk-workers-interesting-takeaways-ai-usage-2024-11\n",
            "\n"
          ]
        },
        {
          "output_type": "stream",
          "name": "stderr",
          "text": [
            "Your max_length is set to 50, but your input_length is only 30. Since this is a summarization task, where outputs shorter than the input are typically wanted, you might consider decreasing max_length manually, e.g. summarizer('...', max_length=15)\n"
          ]
        },
        {
          "output_type": "stream",
          "name": "stdout",
          "text": [
            "6. AI Companies Are Reportedly Struggling to Come Up With New and Better Products\n",
            "Summary:  Artificial intelligence (AI) might be running into a cul-de-sac thanks to data shortages and technological constraints, according to a report from Bloomberg .\n",
            "Link: https://petapixel.com/2024/11/13/ai-companies-are-reportedly-struggling-to-come-up-with-new-and-better-products/\n",
            "\n"
          ]
        },
        {
          "output_type": "stream",
          "name": "stderr",
          "text": [
            "Your max_length is set to 50, but your input_length is only 30. Since this is a summarization task, where outputs shorter than the input are typically wanted, you might consider decreasing max_length manually, e.g. summarizer('...', max_length=15)\n"
          ]
        },
        {
          "output_type": "stream",
          "name": "stdout",
          "text": [
            "7. China's internet censors are trying to crush dissenters' memes and puns. It's a losing battle.\n",
            "Summary:  Authorities have launched a campaign to crack down on the use of wordplay to avoid censorship online . It's likely to fail, but it's unlikely to fail . Chineses authorities have launched an online crackdown on wordplay .\n",
            "Link: https://www.businessinsider.com/china-internet-crackdown-puns-memes-dissent-fail-language-wordplay-experts-2024-11\n",
            "\n"
          ]
        },
        {
          "output_type": "stream",
          "name": "stderr",
          "text": [
            "Your max_length is set to 50, but your input_length is only 35. Since this is a summarization task, where outputs shorter than the input are typically wanted, you might consider decreasing max_length manually, e.g. summarizer('...', max_length=17)\n"
          ]
        },
        {
          "output_type": "stream",
          "name": "stdout",
          "text": [
            "8. 5 nuclear energy startups that Google, Amazon, Bill Gates, and Sam Altman are into\n",
            "Summary:  The race to develop artificial intelligence has spurred an emerging race for nuclear power to meet the technology’s intense energy demands .\n",
            "Link: https://qz.com/nuclear-energy-startups-google-amazon-ai-altman-gates-1851693363\n",
            "\n",
            "9. Nvidia's hot new AI chip has its first customer\n",
            "Summary:  Nvidia’s new artificial intelligence chip has its first customer, which plans to build the most powerful AI supercomputer in Japan .\n",
            "Link: https://qz.com/softbank-nvidia-first-customer-blackwell-ai-chip-japan-1851697231\n",
            "\n",
            "10. Apple’s hitting its AI stride right as competition is slowing\n",
            "Summary:  Apple Intelligence just arrived last month, and some of its most exciting features will arrive with iOS 18.2 in the coming weeks . Meanwhile, a new report indicates Apple’s major AI competitors are hitting speed bumps with their growth .\n",
            "Link: https://9to5mac.com/2024/11/13/apples-suddenly-finding-ai-success-while-competitors-hit-speed-bumps/\n",
            "\n"
          ]
        }
      ]
    },
    {
      "cell_type": "code",
      "source": [],
      "metadata": {
        "id": "FnNX50A63YwP"
      },
      "execution_count": null,
      "outputs": []
    }
  ]
}